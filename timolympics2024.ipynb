{
 "cells": [
  {
   "cell_type": "markdown",
   "id": "bc989d9f-e1e5-49ec-a3b8-70e0177dc4a1",
   "metadata": {},
   "source": [
    "## 08-Aug-2024 == Olympics \n",
    "\n",
    "#### Tim Spann @PaaSDev\n",
    "\n",
    "### Milvus - Attu\n",
    "\n",
    "![milvuslogo](https://milvus.io/images/milvus_logo.svg)\n",
    "\n",
    "\n",
    "### CODE + COMMUNITY\n",
    "\n",
    "Please join my meetup group NJ/NYC/Philly/Virtual. \n",
    "\n",
    "[https://www.meetup.com/unstructured-data-meetup-new-york/](https://www.meetup.com/unstructured-data-meetup-new-york/)\n",
    "\n",
    "\n",
    "#### Contact Us\n",
    "\n",
    "Get Milvused!  [https://milvus.io/](https://milvus.io/)\n",
    "\n",
    "Read my Newsletter every week! [https://github.com/tspannhw/FLiPStackWeekly/blob/main/142-17June2024.md](https://github.com/tspannhw/FLiPStackWeekly/blob/main/142-17June2024.md)\n",
    "\n",
    "For more cool Unstructured Data, AI and Vector Database videos check out the Milvus vector database videos here\n",
    "[https://www.youtube.com/@MilvusVectorDatabase/videos](https://www.youtube.com/@MilvusVectorDatabase/videos)\n",
    "\n",
    "#### Unstructured Data Meetups \n",
    "\n",
    "[https://www.meetup.com/pro/unstructureddata/](https://www.meetup.com/pro/unstructureddata/)\n",
    "[https://zilliz.com/community/unstructured-data-meetup](https://zilliz.com/community/unstructured-data-meetup)\n",
    "[https://zilliz.com/event](https://zilliz.com/event)\n",
    "\n",
    "#### [https://x.com/milvusio](Twitter/X)  \n",
    "\n",
    "#### [https://www.linkedin.com/company/zilliz/](LinkedIn)\n",
    "\n",
    "#### [https://discord.com/invite/FjCMmaJng6](Discord)\n",
    "\n",
    "#### [https://milvusio.medium.com/](Blog)\n",
    "\n",
    "#### Please star our [https://github.com/milvus-io/milvus](Github)\n",
    "\n",
    "#### [https://www.youtube.com/@FLaNK-Stack](Youtube)\n",
    "\n",
    "#### [https://medium.com/@tspann/subscribe](Blog)"
   ]
  },
  {
   "cell_type": "code",
   "execution_count": 1,
   "id": "a4f74954-4764-40c1-944b-9e818d91a1ac",
   "metadata": {},
   "outputs": [
    {
     "name": "stdout",
     "output_type": "stream",
     "text": [
      "Requirement already satisfied: wikipedia-api in ./milvusvenv/lib/python3.12/site-packages (0.6.0)\n",
      "Requirement already satisfied: requests in ./milvusvenv/lib/python3.12/site-packages (from wikipedia-api) (2.31.0)\n",
      "Requirement already satisfied: charset-normalizer<4,>=2 in ./milvusvenv/lib/python3.12/site-packages (from requests->wikipedia-api) (3.3.2)\n",
      "Requirement already satisfied: idna<4,>=2.5 in ./milvusvenv/lib/python3.12/site-packages (from requests->wikipedia-api) (3.7)\n",
      "Requirement already satisfied: urllib3<3,>=1.21.1 in ./milvusvenv/lib/python3.12/site-packages (from requests->wikipedia-api) (2.2.1)\n",
      "Requirement already satisfied: certifi>=2017.4.17 in ./milvusvenv/lib/python3.12/site-packages (from requests->wikipedia-api) (2024.2.2)\n"
     ]
    }
   ],
   "source": [
    "### wikipedia-api\n",
    "### https://wikipedia-api.readthedocs.io/en/latest/README.html\n",
    "### https://github.com/tspannhw/FLaNK-python-processors\n",
    "### https://medium.com/cloudera-inc/building-a-library-of-python-processors-6b5517404a58\n",
    "\n",
    "!pip3 install wikipedia-api"
   ]
  },
  {
   "cell_type": "code",
   "execution_count": 20,
   "id": "6a794471-3cc0-4dfc-a72b-e9d4fe7301df",
   "metadata": {},
   "outputs": [
    {
     "name": "stdout",
     "output_type": "stream",
     "text": [
      "2024_Summer_Olympics (id: ??, ns: 0)\n",
      "29339\n",
      "2024 Summer Olympics\n"
     ]
    }
   ],
   "source": [
    "import wikipediaapi\n",
    "\n",
    "WIKIPAGE = \"2024_Summer_Olympics\"\n",
    "\n",
    "# wiki_wiki = wikipediaapi.Wikipedia(user_agent='NiFi tim.spann@zilliz',language='en',extract_format=wikipediaapi.ExtractFormat.WIKI)\n",
    "wiki_wiki = wikipediaapi.Wikipedia(user_agent='NiFi tim.spann@zilliz',language='en',extract_format=wikipediaapi.ExtractFormat.HTML)\n",
    "\n",
    "results = wiki_wiki.page(WIKIPAGE)\n",
    "### print(str(results.text))\n",
    "print(results)\n",
    "\n",
    "wikidata = str(results.text)\n",
    "\n",
    "print(len(results.text))\n",
    "print(results.title)\n"
   ]
  },
  {
   "cell_type": "code",
   "execution_count": 23,
   "id": "76d4ba83-f071-4564-b333-eeecf42612ed",
   "metadata": {},
   "outputs": [
    {
     "name": "stdout",
     "output_type": "stream",
     "text": [
      "29339\n",
      "2024 Summer Olympics\n"
     ]
    }
   ],
   "source": [
    "\n",
    "text = str(results.text[:64000])\n",
    "title = str(results.title)\n",
    "\n",
    "print(len(text))\n",
    "print(title)"
   ]
  },
  {
   "cell_type": "code",
   "execution_count": 24,
   "id": "5cf33173-7125-4099-99fb-381a264cbb6c",
   "metadata": {},
   "outputs": [],
   "source": [
    "import json\n",
    "import requests\n",
    "from pymilvus import model\n",
    "from pymilvus.model.dense import SentenceTransformerEmbeddingFunction\n",
    "\n",
    "model = SentenceTransformerEmbeddingFunction('all-MiniLM-L6-v2',device='cpu' )\n"
   ]
  },
  {
   "cell_type": "code",
   "execution_count": 40,
   "id": "622a2b35-5114-491f-8a4f-db320f3171e8",
   "metadata": {},
   "outputs": [],
   "source": [
    "import os\n",
    "from pymilvus import MilvusClient\n",
    "\n",
    "DIMENSION = 384 \n",
    "MILVUS_URL = \"https://in05-7bd87b945683c8d.serverless.gcp-us-west1.cloud.zilliz.com\" \n",
    "COLLECTION_NAME = \"olympics\"\n",
    "TOKEN = \"\"\n",
    "# -----------------------------------------------------------------------------\n",
    "# Connect to Milvus\n",
    "\n",
    "# Local Docker Server\n",
    "milvus_client = MilvusClient( uri=MILVUS_URL, token=TOKEN )"
   ]
  },
  {
   "cell_type": "code",
   "execution_count": 41,
   "id": "a274830a-f83a-47a1-bb9e-be6b5835935a",
   "metadata": {},
   "outputs": [
    {
     "name": "stdout",
     "output_type": "stream",
     "text": [
      "{'state': <LoadState: Loaded>}\n"
     ]
    }
   ],
   "source": [
    "from pymilvus import connections\n",
    "from pymilvus import utility\n",
    "from pymilvus import FieldSchema, CollectionSchema, DataType, Collection\n",
    "import pprint\n",
    "\n",
    "## schema\n",
    "\n",
    "schema = milvus_client.create_schema(\n",
    "    auto_id=True,\n",
    "    enable_dynamic_field=False\n",
    ")\n",
    "\n",
    "schema.add_field(field_name='id', datatype=DataType.INT64, is_primary=True, auto_id=True)\n",
    "schema.add_field(field_name=\"title\", datatype=DataType.VARCHAR,max_length=65535)\n",
    "schema.add_field(field_name=\"text\", datatype=DataType.VARCHAR,max_length=65535)\n",
    "schema.add_field(field_name=\"vector\", datatype=DataType.FLOAT_VECTOR, dim=DIMENSION)\n",
    "\n",
    "index_params = milvus_client.prepare_index_params()\n",
    "\n",
    "index_params.add_index(\n",
    "    field_name=\"id\",\n",
    "    index_type=\"STL_SORT\"\n",
    ")\n",
    "\n",
    "index_params.add_index(\n",
    "    field_name=\"vector\",\n",
    "    index_type=\"IVF_FLAT\",\n",
    "    metric_type=\"L2\",\n",
    "    params={\"nlist\": 100}\n",
    ")\n",
    "\n",
    "milvus_client.create_collection(\n",
    "    collection_name = COLLECTION_NAME,\n",
    "    schema=schema,\n",
    "    index_params=index_params,\n",
    ")\n",
    "\n",
    "res = milvus_client.get_load_state(\n",
    "    collection_name = COLLECTION_NAME\n",
    ")\n",
    "\n",
    "print(res)"
   ]
  },
  {
   "cell_type": "code",
   "execution_count": 42,
   "id": "0b414f3c-afbb-420d-9916-a55a6e8f88d0",
   "metadata": {},
   "outputs": [
    {
     "name": "stdout",
     "output_type": "stream",
     "text": [
      "{'insert_count': 1, 'ids': [451372946840723047], 'cost': 8}\n"
     ]
    }
   ],
   "source": [
    "data = []\n",
    "\n",
    "data.append({\"vector\": model(text),\"title\": title,\"text\": text}, )\n",
    "res = milvus_client.insert(collection_name=COLLECTION_NAME, data=data)\n",
    "print(res)"
   ]
  },
  {
   "cell_type": "code",
   "execution_count": 44,
   "id": "16308e23-3304-4c7e-9fe8-13100f201768",
   "metadata": {},
   "outputs": [
    {
     "name": "stdout",
     "output_type": "stream",
     "text": [
      "Hit: {'id': 451372946840723047, 'distance': 0.0, 'entity': {'id': 451372946840723047, 'title': '2024 Summer Olympics', 'text': '<link rel=\"mw-deduplicated-inline-style\" href=\"mw-data:TemplateStyles:r1236090951\">\\n<p class=\"mw-empty-elt\">\\n</p>\\n\\n<p class=\"mw-empty-elt\">\\n\\n</p>\\n\\n<link rel=\"mw-deduplicated-inline-style\" href=\"mw-data:TemplateStyles:r1129693374\">\\n<p>The <b>2024 Summer Olympics</b>, officially the <b>Games of the XXXIII Olympiad</b> and branded as <b>Paris 2024</b>, is an international multi-sport event taking place from 24\\xa0July to 11\\xa0August 2024 in France, with the opening ceremony having taken place on 26 July. Paris is the host city, with events held in 16 additional cities spread across Metropolitan France, and one subsite in Tahiti, French Polynesia.\\n</p><p>Paris was awarded the Games at the 131st IOC Session in Lima, Peru, on 13\\xa0September 2017. After multiple withdrawals that left only Paris and Los Angeles in contention, the International Olympic Committee (IOC) approved a process to concurrently award the 2024 and 2028 Summer Olympics to the two remaining candidate cities; both of the bids were praised for high technical plans and innovative ways to use a record-breaking number of existing and temporary facilities. Having previously hosted in 1900 and 1924, Paris becomes the second city ever to host the Summer Olympics three times (after London, which hosted the games in 1908, 1948, and 2012). Paris 2024 marks the centenary of Paris 1924 and Chamonix 1924 (which in turn marks the centenary of the Winter Olympics) and is the sixth Olympic Games hosted by France (three Summer Olympics and three Winter Olympics) and the first French Olympics since the 1992 Winter Games in Albertville. The Summer Games returned to the traditional four-year Olympiad cycle, after the 2020 edition was postponed to 2021 due to the COVID-19 pandemic.\\n</p><p>Paris 2024 features the debut of breakdancing as an Olympic sport, and will be the final Olympic Games held during the IOC presidency of Thomas Bach. The 2024 Games are expected to cost €9\\xa0billion.\\n</p>\\n\\n<h2>Bidding process</h2>\\n<link rel=\"mw-deduplicated-inline-style\" href=\"mw-data:TemplateStyles:r1236090951\">\\n<p>The six candidate cities were Paris, Hamburg, Boston, Budapest, Rome, and Los Angeles. The bidding process was slowed by withdrawals, political uncertainty, and deterring costs. Boston surpassed Los Angeles, San Francisco, and Washington, DC, in the official US bid. On 27\\xa0July 2015, Boston and the USOC mutually agreed to terminate Boston\\'s bid to host the Games, partly because of mixed feelings in the city of Boston. Hamburg withdrew its bid on 29\\xa0November 2015 after holding a referendum. Rome withdrew on 21\\xa0September 2016, citing fiscal difficulties. Budapest withdrew on 22\\xa0February 2017, after a petition against the bid collected more signatures than necessary for a referendum.\\n</p><p>Following these withdrawals, the IOC Executive Board met on 9\\xa0June 2017 in Lausanne, Switzerland, to discuss the 2024 and 2028 bid processes. The International Olympic Committee formally proposed electing the 2024 and 2028 Olympic host cities at the same time in 2017, a proposal which an Extraordinary IOC Session approved on 11\\xa0July 2017 in Lausanne. The IOC set up a process whereby the LA 2024 and Paris 2024 bid committees met with the IOC to discuss which city would host the Games in 2024 and 2028 and whether it was possible to select the host cities for both at the same time.\\n</p><p>Following the decision to award the two games simultaneously, Paris was understood to be the preferred host for 2024. On 31\\xa0July 2017, the IOC announced Los Angeles as the sole candidate for 2028, enabling Paris to be confirmed as host for 2024. Both decisions were ratified at the 131st IOC Session on 13\\xa0September 2017.\\n</p>\\n\\n<h3>Host city election</h3>\\n<p>Paris was elected as the host city on 13 September 2017 at the 131st IOC Session in Lima, Peru. The two French IOC members, Guy Drut and Tony Estanguet, were ineligible to vote under the rules of the Olympic Charter.\\n</p>\\n\\n<h2>Development and preparations</h2>\\n<h3>Venues</h3>\\n<p>Most of the Olympic events are being held in the city of Paris and its metropolitan region, including the neighbouring cities of Saint-Denis, Le Bourget, Nanterre, Versailles, and Vaires-sur-Marne.\\n</p><p>The basketball preliminaries and handball finals will be held in Lille, which is 225\\xa0km (140\\xa0mi) from the host city, Paris; the sailing and some of the football games will be held in the Mediterranean city of Marseille, which is 777\\xa0km (483\\xa0mi) from Paris; meanwhile, the surfing events are expected to be held in Teahupo\\'o village in the overseas territory of French Polynesia, which is 15,716\\xa0km (9,765\\xa0mi) from Paris. Football will also be hosted in an additional five cities: Bordeaux, Décines-Charpieu (Lyon), Nantes, Nice and Saint-Étienne, some of which are home to <span>Ligue 1</span> clubs.\\n</p>\\n\\n<h4>Grand Paris zone</h4>\\n<h4>Paris Centre zone</h4>\\n<h4>Versailles zone</h4>\\n<h4>Outlying venues</h4>\\n<h4>Non-competitive</h4>\\n<h3>Medals</h3>\\n<p>President of the Paris 2024 Olympic Organizing Committee, Tony Estanguet, unveiled the Olympic and Paralympic medals for the Games in February 2024, which on the obverse featured embedded hexagon-shaped tokens of scrap iron that had been taken from the original construction of the Eiffel Tower, with the Games logo engraved into it. Approximately 5,084 medals would be produced by the French mint Monnaie de Paris, and were designed by Chaumet, a luxury jewellery firm based in Paris.\\n</p><p>The reverse of the medals features Nike, the Greek goddess of victory, inside the Panathenaic Stadium which hosted the first modern Olympics in 1896. Parthenon and the Eiffel Tower can also be seen in the background on both sides of the medal. Each medal weighs 455–529\\xa0g (16–19\\xa0oz), has a diameter of 85\\xa0mm (3.3\\xa0in) and is 9.2\\xa0mm (0.36\\xa0in) thick. The gold medals are made with 98.8 percent silver and 1.13 percent gold, while the bronze medals are made up with copper, zinc, and tin.\\n</p>\\n\\n<h3>Security</h3>\\n<p>France reached an agreement with Europol and the UK Home Office to help strengthen security and \"facilitate operational information exchange and international law enforcement cooperation\" during the Games. The agreement included a plan to deploy more drones and sea barriers to prevent small boats from crossing the Channel illegally. The British Army would also provide support by deploying Starstreak surface-to-air missile units for air security. To prepare for the Games, the Paris police held inspections and rehearsals in their bomb disposal unit, similar to their preparations for the 2023 Rugby World Cup at the Stade de France.\\n</p><p>As part of a visit to France by Qatari Emir Sheikh Tamim bin Hamad Al-Thani, several agreements were signed between the two nations to enhance security for the Olympics. In preparation for the significant security demands and counterterrorism measures, Poland pledged to contribute security troops, including sniffer dog handlers, to support international efforts aimed at ensuring the safety of the Games. The Qatari Minister of Interior and Commander of Lekhwiya (the Qatari security forces) convened a meeting on 3\\xa0April 2024 to discuss security operations ahead of the Olympics, with officials and security leaders in attendance, including Nasser Al-Khelaifi and Sheikh Jassim bin Mansour Al Thani. A week before the opening ceremony, the Lekhwiya were reported to have been deployed in Paris on 16\\xa0July 2024.\\n</p><p>In the weeks running up to the opening of the Paris Olympics, it was reported that police officers would be deployed from Belgium, Brazil, Canada (through the RCMP/OPP/CPS), Cyprus, the Czech Republic, Denmark, Estonia, Finland, Germany (through Bundespolizei/NRW Police), India, Ireland, Italy, Luxembourg, Morocco, Netherlands, Norway, Poland, Portugal, Slovakia, South Korea, Spain (through the CNP/GC), Sweden, the UAE, the UK, and the US (through the LAPD/LASD/NYPD/FCPD), with more than 40 countries providing police assistance to their French counterparts.\\n</p><p>Security concerns impacted the plans that had been announced for the opening ceremony, which was to take place as a public event along the Seine; the expected attendance was reduced by half from an estimated 600,000 to 300,000, with plans for free viewing locations now being by invitation only. In April 2024, after Islamic State claimed responsibility for the Crocus City Hall attack in March, and made several threats against the UEFA Champions League quarter-finals, French president Emmanuel Macron indicated that the opening ceremony could be scaled back or re-located if necessary. French authorities had placed roughly 75,000 police and military officials on the streets of Paris in the lead-up to the Games.\\n</p>\\n\\n<h3>Food</h3>\\n<p>To reduce the environmental impact and climate footprint of the Paris 2024 Games, the Olympic venues will serve twice as much plant-based food as was available in London in 2012 and Rio in 2016. Vegan chicken nuggets and vegan hot dogs will be provided, rather than the meat-based variety, in a bid to make 30% of the menu plant-based.\\n</p><p>An estimated 13 million meals will be served at the Games; with around 40,000 meals each day, 1,200 of those will be Michelin-starred. Each day, a boulangerie will bake fresh baguettes and other breads.\\n</p><p>A 3,500-seat restaurant was constructed for the Games to highlight global cuisine. Great Britain\\'s team asked for porridge to be added to the menu, and South Korea\\'s team asked for kimchi.\\n</p><p>Throughout the Games, athletes and competitors at the Olympic Village complained about a lack of certain foods within the accommodation, such as eggs and grilled meats. As well as being in short supply, meat was also reportedly served raw. As a result of the ongoing food issues, many athletes have begun to avoid the Olympic Village dining facilities and eat elsewhere, while some nations have flown in chefs and food supplies for their delegations. Great Britain\\'s Olympic Team brought in chefs to prepare food for the British athletes at a location outside the Olympic Village.\\n</p>\\n\\n<h3>Air conditioning</h3>\\n<p>In the lead-up to the Games, it was announced that the Olympic Village would lack air conditioning; as an environmental measure, the buildings would instead use a geothermal natural cooling system to keep the inside temperature 6\\xa0°C (11\\xa0°F) cooler than outside. On learning this, many teams opted to supply their own air-conditioning units to the Games, including Canada, Great Britain, Italy, Germany, Greece, Denmark, and Japan. Olympic delegations from poorer countries, such as Uganda, complained that they could not afford to provide air conditioning for their athletes.\\n</p>\\n\\n<h3>Transportation</h3>\\n<link rel=\"mw-deduplicated-inline-style\" href=\"mw-data:TemplateStyles:r1236090951\"><p>Over €500 million has been invested in transport improvements for the Games, with extensions to the Paris Métro and 60 kilometres (37\\xa0mi) of new cycle lanes. Visitors to Paris will pay higher public transport fares during the Games, €4 instead of the previous €2.15 price. This will pay for the increased frequency and hours of service for public transport during the Games, with an average increase of 15% in services. As with previous Games, 185 kilometres (115\\xa0mi) of reserved traffic lanes will be used to ensure reliable journey times for athletes, officials and the media.\\n</p>\\n\\n<h3>Volunteers</h3>\\n<p>The Paris 2024 volunteer platform for the Olympic and Paralympic Games was opened to the public in March 2023. There were expected to be 45,000 volunteers recruited worldwide for the Games. Following the end of registration on 3\\xa0May 2023, over 300,000 applications had been submitted to the Paris Organising Committee, exceeding the number of applicants for the previous two Olympics. Applicants were notified of the outcome of their application between September and December 2023. Over 800 applicants were excluded over security fears, among which 15 were flagged with Fiche S.\\n</p>\\n\\n<h3>Torch relay</h3>\\n<link rel=\"mw-deduplicated-inline-style\" href=\"mw-data:TemplateStyles:r1236090951\">\\n\\n<p>The Olympic torch relay began with the lighting of the Olympic flame on 16\\xa0April in Olympia, Greece, 100 days before the start of the Games. Greek rower Stefanos Douskos was the first torchbearer and swimmer Laure Manaudou served as the first French torchbearer. The latter was selected to be one of four captains of the torch relay, alongside swimmer Florent Manaudou (her brother), paratriathlete Mona Francis, and para-athlete Dimitri Pavadé. The torch relay is expected to have 10,000 torchbearers and visit over 400 settlements in 65 French territories, including six overseas. On 18\\xa0May, it was reported that the portion of the relay in New Caledonia was cancelled due to ongoing unrest in the collectivity.\\n</p>\\n\\n<h2>The Games</h2>\\n<h3>Opening ceremony</h3>\\n<link rel=\"mw-deduplicated-inline-style\" href=\"mw-data:TemplateStyles:r1236090951\">\\n<p>The opening ceremony began at 19:30 CEST (17:30 GMT) on 26\\xa0July 2024. Directed by Thomas Jolly, it was the first Summer Olympics opening ceremony to be held outside the traditional stadium setting; the parade of athletes was conducted as a boat parade along the Seine from Pont d\\'Austerlitz to Pont d\\'Iéna, and cultural segments took place at various landmarks along the route. Jolly stated that the ceremony would highlight notable moments in the history of France, with an overall theme of love and \"shared humanity\". The athletes then attended the official protocol at Jardins du Trocadéro, in front of the Eiffel Tower. Approximately 326,000 tickets were sold for viewing locations along the Seine, 222,000 of which were distributed primarily to the Games\\' volunteers, youth and low-income families, among others.\\n</p><p>The ceremony featured music performances by American musician Lady Gaga, French-Malian singer Aya Nakamura, heavy metal band Gojira and soprano Marina Viotti, Axelle Saint-Cirel (who sang the French national anthem \"La Marseillaise\" atop the Grand Palais), rapper Rim\\'K, Philippe Katerine (who portrayed the Greek god Dionysus), Juliette Armanet and Sofiane Pamart, and was closed by Canadian singer Céline Dion. The Games were formally opened by president Emmanuel Macron. The Olympic cauldron, which was lit by Guadeloupean judoka Teddy Riner and sprinter Marie-José Pérec, has a hot air balloon-inspired design topped by a 30-metre-tall (98\\xa0ft) helium sphere; it is allowed to float into the air above the Tuileries Garden at night. For the first time, the cauldron is not illuminated through combustion; the flames are simulated by an LED lighting system and aerosol water jets.\\n</p><p>Controversy ensued at the opening ceremony when a segment was thought to parody the Last Supper. The organisers apologised for any offence caused. The Olympic flag was also raised upside down.\\n</p>\\n\\n<h3>Sports</h3>\\n<p>The programme of the 2024 Summer Olympics features 329 events in 32 sports, encompassing a total of 48 disciplines. This includes the 28 \"core\" Olympic sports contested in 2016 and 2020, and 4 optional sports that were proposed by the Paris Organising Committee: breakdancing is making its Olympic debut as an optional sport, while skateboarding, sport climbing, and surfing are returning to the programme, having debuted at the 2020 Summer Olympics. Four events have been dropped from weightlifting. In canoeing, two sprint events have been replaced with two slalom events, keeping the overall event total at 16. In sport climbing, the previous \"combined\" event has been divided into separate \"speed climbing\" and \"boulder-and-lead combined\" events for each gender.\\n</p><p>In February 2023, USA Boxing announced its decision to boycott the 2023 World Championships (organised by the International Boxing Association)—in which Russian and Belarusian athletes were able to compete with no restrictions—and accused the IBA of attempting to sabotage the IOC-approved qualification pathway for the 2024 Summer Olympics. Poland, Switzerland, the Netherlands, Great Britain, Ireland, the Czech Republic, Sweden and Canada later joined the US boycott.\\n</p>\\n\\n<h4>New and optional sports</h4>\\n<p>When Paris was bidding for the Games in August 2017, the Paris Organising Committee announced an intention to hold talks with the IOC and professional esports organisations about the possibility of introducing competitive esports events in 2024. In July 2018, the IOC confirmed that esports would not be considered for the 2024 Olympics. At the 134th IOC Session in June 2019, the IOC approved the Paris Organising Committee\\'s proposed optional sports of breaking (breakdance), along with skateboarding, sport climbing, and surfing, three sports that were first included in 2020.\\n</p><p>In the 2024 Paris Olympics, several new events and formats have been introduced. Formula Kite makes its debut, described as the \"Formula One of the Olympics,\" featuring high-speed foil racing with separate events for men and women.\\nKayak cross also debuts, where four athletes race against each other on a course with multiple gates, marking the first head-to-head race in Olympic canoe slalom history. Sport climbing returns with a new format, splitting into bouldering and lead combined events in addition to a speed event. 3x3 basketball, which debuted in Tokyo, is back with finals scheduled for August 5 at Place de La Concorde . Changes in other sports include the introduction of men\\'s participation in artistic swimming, a new women’s weight class in boxing, and the addition of a marathon race walk mixed relay in track and field . \\n</p>\\n\\n<h3>Medal reallocations from previous Olympics</h3>\\n<p>In addition, Champions Park also hosted medal reallocations from previous Olympics dating back as far as Sydney in 2000. One medal reallocation that took place on 7 August was that for the team figure skating event at the 2022 Winter Olympics in Beijing, which had been the first Olympic medal ceremony to be delayed or postponed after Kamila Valieva from original gold medalist Russia was reported and then confirmed to have tested positive in 2021 for trimetazidine. In January 2024, the Court of Arbitration for Sport disqualified Valieva for four years retroactive to 25 December 2021 for an anti-doping rule violation, and the International Skating Union subsequently subtracted Valieva\\'s scores, which upgraded the United States and Japan to gold and silver respectively.\\n</p><p>Under the IOC\\'s Medal Reallocation Rules, the IOC, the ISU, and the national committees for both the United States and Japan coordinated the medal ceremony for gold and silver medals during reallocation ceremonies during the Paris Olympics. Beijing 2022 music was still used for the medal ceremony, but both teams wore Paris 2024 tracksuits and it was the first medal ceremony from the 2022 Winter Olympics to have a full crowd as there had been reduced audiences in 2022 due to the COVID-19 pandemic.\\n</p>\\n\\n<h3>Closing ceremony</h3>\\n<p>The closing ceremony is scheduled to be held at Stade de France on 11\\xa0August 2024. Titled \"Records\", the ceremony will centre around a dystopian future, where the Olympic Games have disappeared, and a group of space people will reinvent it. It is set to feature more than a hundred performers, including acrobats, dancers and circus artists. Tom Cruise is also set to appear in the ceremony. The cultural presentation by Los Angeles, the host city of the 2028 Summer Olympics, will be produced by Ben Winston and his studio Fulwell 73.\\n</p>\\n\\n<h2>Participating National Olympic Committees</h2>\\n<p>204 out of 206 National Olympic Committees are represented at the 2024 Summer Games with 54 from Africa, 48 from Europe, 44 from Asia, 41 from the Americas and 17 from Oceania. North Korea returned to the Games in 2024 after missing the 2020 edition. Following the Russian invasion of Ukraine, the IOC suspended the Olympic Committees of Russia and Belarus for violating the Olympic Truce. Russian and Belarusian athletes will instead compete as \"Individual Neutral Athletes\" (AIN) without national identification, as long as they do not \"actively\" support the war. Individual neutral athletes must be approved by each sport\\'s international federation, and then the IOC\\'s panel. As individual athletes, AIN will not be considered a delegation during the opening ceremony or in the medal tables. The Refugee Olympic Team also competed.\\n</p>\\n\\n\\n\\n<p><b>Number of athletes by National Olympic Committees</b>\\n</p>\\n\\n<h2>Calendar</h2>\\n<link rel=\"mw-deduplicated-inline-style\" href=\"mw-data:TemplateStyles:r1236090951\">\\n<p>This is the official schedule, though the exact schedule can change up until the end of the games.\\n</p><p><br>\\n</p>\\n<dl><dd><i>All times and dates use Central European Summer Time (UTC+2)</i></dd></dl>\\n\\n<h2>Medal table</h2>\\n<link rel=\"mw-deduplicated-inline-style\" href=\"mw-data:TemplateStyles:r1236090951\">\\n<link rel=\"mw-deduplicated-inline-style\" href=\"mw-data:TemplateStyles:r1236090951\">\\n<p><span>\\xa0\\xa0*\\xa0\\xa0</span>\\xa0Host nation (France)</p>\\n\\n<h3>Podium sweeps</h3>\\n<p>As of 6 August, there has been one podium sweep:\\n</p>\\n\\n<h2>Marketing</h2>\\n<h3>Emblem</h3>\\n<p>The emblem for the 2024 Summer Olympics and Paralympics was unveiled on 21\\xa0October 2019 at the Grand Rex. Inspired by Art Deco, it is a representation of Marianne, the national personification of France, with a flame formed in negative space by her hair. The emblem also resembles a gold medal. Tony Estanguet explained that the emblem symbolised \"the power and the magic of the Games\", and the Games being \"for people\". The use of a female figure also serves as an homage to the 1900 Summer Olympics in Paris, which were the first to allow women to participate. The emblem was designed by the French designer Sylvain Boyer with the French design agencies Royalties &amp; Ecobranding.\\n</p><p>The emblem for Paris 2024 was considered the biggest new logo release of 2019 by many design magazines. An Opinion Way survey shows that 83 per cent of French people say they like the new Paris 2024 Games emblem. Approval ratings were high, with 82 per cent of those surveyed finding it aesthetically appealing and 78 per cent finding it to be creative. It was met with some mockery on social media, one user commenting that the logo \"would be better suited to a dating site or a hair salon\".\\n</p><p>For the first time, the 2024 Summer Paralympics is sharing the same emblem as its corresponding Olympics, with no difference, reflecting a shared \"ambition\" between both events.\\n</p>\\n\\n<h3>Mascots</h3>\\n<link rel=\"mw-deduplicated-inline-style\" href=\"mw-data:TemplateStyles:r1236090951\">\\n<p>On 14 November 2022, The Phryges were unveiled as the mascots of the 2024 Summer Olympics and Paralympics; they are a pair of anthropomorphic Phrygian caps, a historic French symbol of freedom and liberty. Marianne is commonly depicted wearing the Phrygian cap, including in the Eugène Delacroix painting, <i>Liberty Leading the People</i>. The two mascots share a motto of \"Alone we go faster, but together we go further\".\\n</p>\\n\\n<h3>Merchandise</h3>\\n<p>In April 2024, the official Olympic video game titled <i>Olympics Go! Paris 2024</i> was announced for release in June by Animoca Brands on Android, iOS, and Microsoft Windows devices. The 2024 Summer Olympics became the first Summer Olympics in over 30 years to not have an official console video game.\\n</p>\\n\\n<h3>Posters</h3>\\n<p>The Olympic poster for these games was revealed on 4\\xa0March 2024. Designed by Ugo Gattoni, the poster uses a diptych design, with one half representing the Olympics and the other half representing the Paralympics. For the first time, the Olympic poster and Paralympic poster were designed together, as each one can work independently as halves, or be combined into one poster all together. The posters took 2,000 hours, across six months to complete.\\n</p>\\n\\n<h3>Corporate sponsorship</h3>\\n<p>A TGM Research survey shows that Coca-Cola is globally the most connected brand with the 2024 Olympics, with 23% of people mentioning it. Nike comes in second with 16%, despite not being an official sponsor of the Olympic Games. Belgian beverage company AB InBev became the first Worldwide Olympic Partner during the Games, while Japanese automobile manufacturer Toyota will not renew its sponsorship after 2024, with the company reportedly unhappy with how the IOC has used its sponsorship money.\\n</p><p>Under an agreement as \"Premium\" sponsor reportedly valued at €150<span>\\xa0</span>million ($163<span>\\xa0</span>million), French luxury goods conglomerate LVMH has been involved in aspects of the Games, with its brand Louis Vuitton having provided the trunks used to store the Olympic torch and medals, and the outfits and trays for medal presenters. Former IOC marketing head Michael Payne raised concerns that the prominent use of LVMH goods as part of the Olympics (and in particular, the opening ceremony, which also featured the aforementioned items as props, and performers Aya Nakamura and Lady Gaga wearing Dior haute coutre) could cause conflicts with other official sponsors, noting that \"the direction of stylish sponsor product placement may not be wrong but needs exceptionally careful management. LVMH got a massive free global ad last night and other partners are all going to be asking, how did that work?\"\\n</p>\\n\\n<h2>Broadcasting rights</h2>\\n<link rel=\"mw-deduplicated-inline-style\" href=\"mw-data:TemplateStyles:r1236090951\">\\n<p>In France, domestic rights to the 2024 Summer Olympics are owned by Warner Bros. Discovery (formerly Discovery Inc.) via Eurosport, with free-to-air coverage sublicensed to the country\\'s public broadcaster France Télévisions. WBD networks will broadcast from Hôtel Raphael, with dedicated studios for its British, French, Polish, and Nordic channels. \\n</p><p>The official Olympics website offers both live-streaming and recent recordings of the events in selected markets, particularly in Brazil, Russia (due to Russian broadcasters pulling out), and the Indian subcontinent.\\n</p>\\n\\n<h2>Concerns and controversies</h2>\\n<link rel=\"mw-deduplicated-inline-style\" href=\"mw-data:TemplateStyles:r1236090951\">\\n\\n<h3>Lead-up</h3>\\n<p>Several controversial issues occurred related to the 2024 Summer Olympics, including environmental and security concerns, human rights, terrorism, and controversies over allowing Israel to participate amidst the Israel–Hamas war, and allowing Russian and Belarusian athletes to compete as neutrals amidst the Russian invasion of Ukraine. While there is nominally an Olympic Truce in place as is usual, the wars in Ukraine and Palestine already set a more conflicted political background to the 2024 Summer Olympics, before considering domestic and sporting issues.\\n</p>\\n\\n<h3>Opening ceremony</h3>\\n<p>The opening ceremony of the Paris 2024 Olympics sparked significant controversy among some Christians due to a performance that featured drag queens reenacting the painting \"Le Festin des Dieux\" by Jan van Bijlert, which depicts various Greek gods partaking in a banquet at Mount Olympus. Many perceived the performance as mocking Leonardo da Vinci\\'s \"The Last Supper\" which portrays Jesus and his apostles, which led to widespread outrage from Christian groups and religious leaders.\\n</p><p>Critics worldwide, including conservative politicians and religious leaders, condemned the act as blasphemous and deeply offensive. They argued that the portrayal disrespected a sacred Christian event and demanded an apology from the organisers. The artistic director of the ceremony, Thomas Jolly, stated that the intention had been to promote love and inclusion, not to offend or divide. The organisers apologised, emphasising that the performance was meant to celebrate diversity and community tolerance, not to mock religious beliefs.\\n</p>\\n\\n<h2>See also</h2>\\n<ul><li>Doping suspensions at Paris 2024</li>\\n<li>2024 Summer Paralympics</li>\\n<li>2028 Summer Olympics in Los Angeles</li>\\n<li>2032 Summer Olympics in Brisbane</li>\\n<li>List of LGBT Summer Olympians (2024–present)</li>\\n<li>Other Olympic Games celebrated in France\\n<ul><li>1900 Summer Olympics and 1924 Summer Olympics also held in  Paris</li>\\n<li>1924 Winter Olympics – Chamonix</li>\\n<li>1968 Winter Olympics – Grenoble</li>\\n<li>1992 Winter Olympics – Albertville</li>\\n<li>2030 Winter Olympics - French Alps</li></ul></li>\\n<li>List of IOC country codes</li></ul>\\n\\n<h2>Notes</h2>\\n<link rel=\"mw-deduplicated-inline-style\" href=\"mw-data:TemplateStyles:r1217336898\">\\n\\n<h2>References</h2>\\n<link rel=\"mw-deduplicated-inline-style\" href=\"mw-data:TemplateStyles:r1217336898\">\\n\\n<h2>External links</h2>\\n\\n<link rel=\"mw-deduplicated-inline-style\" href=\"mw-data:TemplateStyles:r1235681985\"><link rel=\"mw-deduplicated-inline-style\" href=\"mw-data:TemplateStyles:r1237033735\">\\n<ul><li><link rel=\"mw-deduplicated-inline-style\" href=\"mw-data:TemplateStyles:r1238218222\"><cite class=\"citation web cs1\">\"Paris 2024\". <i>Olympics.com</i>. International Olympic Committee.</cite><span title=\"ctx_ver=Z39.88-2004&amp;rft_val_fmt=info%3Aofi%2Ffmt%3Akev%3Amtx%3Ajournal&amp;rft.genre=unknown&amp;rft.jtitle=Olympics.com&amp;rft.atitle=Paris+2024&amp;rft_id=https%3A%2F%2Folympics.com%2Fen%2Folympic-games%2Fparis-2024&amp;rfr_id=info%3Asid%2Fen.wikipedia.org%3A2024+Summer+Olympics\"></span></li>\\n<li>European Olympic Committees</li></ul>'}}\n"
     ]
    }
   ],
   "source": [
    "# Define search parameters\n",
    "search_params = {\n",
    "    \"metric_type\": \"L2\",\n",
    "    \"params\": {\"nprobe\": 10}\n",
    "}\n",
    "\n",
    "# Use first record as search record\n",
    "query_vector = [data[0][\"vector\"]]\n",
    "\n",
    "# Execute the search on the 'vector' field\n",
    "search_results = milvus_client.search(\n",
    "    COLLECTION_NAME,\n",
    "    data=query_vector,\n",
    "    anns_field=\"vector\",\n",
    "    output_fields=[\"id\", \"title\", \"text\"],\n",
    "    search_params=search_params,\n",
    "    limit=5\n",
    ")\n",
    "\n",
    "# Print search results\n",
    "for hits in search_results:\n",
    "    for hit in hits:\n",
    "        print(f\"Hit: {hit}\")\n"
   ]
  },
  {
   "cell_type": "code",
   "execution_count": null,
   "id": "5674bb25-e7b0-44df-916c-795450a536f8",
   "metadata": {},
   "outputs": [],
   "source": []
  }
 ],
 "metadata": {
  "kernelspec": {
   "display_name": "Python 3 (ipykernel)",
   "language": "python",
   "name": "python3"
  },
  "language_info": {
   "codemirror_mode": {
    "name": "ipython",
    "version": 3
   },
   "file_extension": ".py",
   "mimetype": "text/x-python",
   "name": "python",
   "nbconvert_exporter": "python",
   "pygments_lexer": "ipython3",
   "version": "3.12.3"
  }
 },
 "nbformat": 4,
 "nbformat_minor": 5
}
